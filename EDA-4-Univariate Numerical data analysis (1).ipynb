{
 "cells": [
  {
   "cell_type": "code",
   "execution_count": null,
   "id": "92a0320b",
   "metadata": {},
   "outputs": [],
   "source": [
    "# Read the packages\n",
    "\n",
    "# Read the data"
   ]
  },
  {
   "cell_type": "code",
   "execution_count": 1,
   "id": "a4fccd01",
   "metadata": {},
   "outputs": [],
   "source": [
    "import pandas as pd\n",
    "import numpy as np\n",
    "import seaborn as sns\n",
    "import matplotlib.pyplot as plt"
   ]
  },
  {
   "cell_type": "code",
   "execution_count": 2,
   "id": "18960fb5",
   "metadata": {},
   "outputs": [
    {
     "data": {
      "text/html": [
       "<div>\n",
       "<style scoped>\n",
       "    .dataframe tbody tr th:only-of-type {\n",
       "        vertical-align: middle;\n",
       "    }\n",
       "\n",
       "    .dataframe tbody tr th {\n",
       "        vertical-align: top;\n",
       "    }\n",
       "\n",
       "    .dataframe thead th {\n",
       "        text-align: right;\n",
       "    }\n",
       "</style>\n",
       "<table border=\"1\" class=\"dataframe\">\n",
       "  <thead>\n",
       "    <tr style=\"text-align: right;\">\n",
       "      <th></th>\n",
       "      <th>case_id</th>\n",
       "      <th>continent</th>\n",
       "      <th>education_of_employee</th>\n",
       "      <th>has_job_experience</th>\n",
       "      <th>requires_job_training</th>\n",
       "      <th>no_of_employees</th>\n",
       "      <th>yr_of_estab</th>\n",
       "      <th>region_of_employment</th>\n",
       "      <th>prevailing_wage</th>\n",
       "      <th>unit_of_wage</th>\n",
       "      <th>full_time_position</th>\n",
       "      <th>case_status</th>\n",
       "    </tr>\n",
       "  </thead>\n",
       "  <tbody>\n",
       "    <tr>\n",
       "      <th>0</th>\n",
       "      <td>EZYV01</td>\n",
       "      <td>Asia</td>\n",
       "      <td>High School</td>\n",
       "      <td>N</td>\n",
       "      <td>N</td>\n",
       "      <td>14513</td>\n",
       "      <td>2007</td>\n",
       "      <td>West</td>\n",
       "      <td>592.2029</td>\n",
       "      <td>Hour</td>\n",
       "      <td>Y</td>\n",
       "      <td>Denied</td>\n",
       "    </tr>\n",
       "    <tr>\n",
       "      <th>1</th>\n",
       "      <td>EZYV02</td>\n",
       "      <td>Asia</td>\n",
       "      <td>Master's</td>\n",
       "      <td>Y</td>\n",
       "      <td>N</td>\n",
       "      <td>2412</td>\n",
       "      <td>2002</td>\n",
       "      <td>Northeast</td>\n",
       "      <td>83425.6500</td>\n",
       "      <td>Year</td>\n",
       "      <td>Y</td>\n",
       "      <td>Certified</td>\n",
       "    </tr>\n",
       "    <tr>\n",
       "      <th>2</th>\n",
       "      <td>EZYV03</td>\n",
       "      <td>Asia</td>\n",
       "      <td>Bachelor's</td>\n",
       "      <td>N</td>\n",
       "      <td>Y</td>\n",
       "      <td>44444</td>\n",
       "      <td>2008</td>\n",
       "      <td>West</td>\n",
       "      <td>122996.8600</td>\n",
       "      <td>Year</td>\n",
       "      <td>Y</td>\n",
       "      <td>Denied</td>\n",
       "    </tr>\n",
       "    <tr>\n",
       "      <th>3</th>\n",
       "      <td>EZYV04</td>\n",
       "      <td>Asia</td>\n",
       "      <td>Bachelor's</td>\n",
       "      <td>N</td>\n",
       "      <td>N</td>\n",
       "      <td>98</td>\n",
       "      <td>1897</td>\n",
       "      <td>West</td>\n",
       "      <td>83434.0300</td>\n",
       "      <td>Year</td>\n",
       "      <td>Y</td>\n",
       "      <td>Denied</td>\n",
       "    </tr>\n",
       "    <tr>\n",
       "      <th>4</th>\n",
       "      <td>EZYV05</td>\n",
       "      <td>Africa</td>\n",
       "      <td>Master's</td>\n",
       "      <td>Y</td>\n",
       "      <td>N</td>\n",
       "      <td>1082</td>\n",
       "      <td>2005</td>\n",
       "      <td>South</td>\n",
       "      <td>149907.3900</td>\n",
       "      <td>Year</td>\n",
       "      <td>Y</td>\n",
       "      <td>Certified</td>\n",
       "    </tr>\n",
       "    <tr>\n",
       "      <th>...</th>\n",
       "      <td>...</td>\n",
       "      <td>...</td>\n",
       "      <td>...</td>\n",
       "      <td>...</td>\n",
       "      <td>...</td>\n",
       "      <td>...</td>\n",
       "      <td>...</td>\n",
       "      <td>...</td>\n",
       "      <td>...</td>\n",
       "      <td>...</td>\n",
       "      <td>...</td>\n",
       "      <td>...</td>\n",
       "    </tr>\n",
       "    <tr>\n",
       "      <th>25475</th>\n",
       "      <td>EZYV25476</td>\n",
       "      <td>Asia</td>\n",
       "      <td>Bachelor's</td>\n",
       "      <td>Y</td>\n",
       "      <td>Y</td>\n",
       "      <td>2601</td>\n",
       "      <td>2008</td>\n",
       "      <td>South</td>\n",
       "      <td>77092.5700</td>\n",
       "      <td>Year</td>\n",
       "      <td>Y</td>\n",
       "      <td>Certified</td>\n",
       "    </tr>\n",
       "    <tr>\n",
       "      <th>25476</th>\n",
       "      <td>EZYV25477</td>\n",
       "      <td>Asia</td>\n",
       "      <td>High School</td>\n",
       "      <td>Y</td>\n",
       "      <td>N</td>\n",
       "      <td>3274</td>\n",
       "      <td>2006</td>\n",
       "      <td>Northeast</td>\n",
       "      <td>279174.7900</td>\n",
       "      <td>Year</td>\n",
       "      <td>Y</td>\n",
       "      <td>Certified</td>\n",
       "    </tr>\n",
       "    <tr>\n",
       "      <th>25477</th>\n",
       "      <td>EZYV25478</td>\n",
       "      <td>Asia</td>\n",
       "      <td>Master's</td>\n",
       "      <td>Y</td>\n",
       "      <td>N</td>\n",
       "      <td>1121</td>\n",
       "      <td>1910</td>\n",
       "      <td>South</td>\n",
       "      <td>146298.8500</td>\n",
       "      <td>Year</td>\n",
       "      <td>N</td>\n",
       "      <td>Certified</td>\n",
       "    </tr>\n",
       "    <tr>\n",
       "      <th>25478</th>\n",
       "      <td>EZYV25479</td>\n",
       "      <td>Asia</td>\n",
       "      <td>Master's</td>\n",
       "      <td>Y</td>\n",
       "      <td>Y</td>\n",
       "      <td>1918</td>\n",
       "      <td>1887</td>\n",
       "      <td>West</td>\n",
       "      <td>86154.7700</td>\n",
       "      <td>Year</td>\n",
       "      <td>Y</td>\n",
       "      <td>Certified</td>\n",
       "    </tr>\n",
       "    <tr>\n",
       "      <th>25479</th>\n",
       "      <td>EZYV25480</td>\n",
       "      <td>Asia</td>\n",
       "      <td>Bachelor's</td>\n",
       "      <td>Y</td>\n",
       "      <td>N</td>\n",
       "      <td>3195</td>\n",
       "      <td>1960</td>\n",
       "      <td>Midwest</td>\n",
       "      <td>70876.9100</td>\n",
       "      <td>Year</td>\n",
       "      <td>Y</td>\n",
       "      <td>Certified</td>\n",
       "    </tr>\n",
       "  </tbody>\n",
       "</table>\n",
       "<p>25480 rows × 12 columns</p>\n",
       "</div>"
      ],
      "text/plain": [
       "         case_id continent education_of_employee has_job_experience  \\\n",
       "0         EZYV01      Asia           High School                  N   \n",
       "1         EZYV02      Asia              Master's                  Y   \n",
       "2         EZYV03      Asia            Bachelor's                  N   \n",
       "3         EZYV04      Asia            Bachelor's                  N   \n",
       "4         EZYV05    Africa              Master's                  Y   \n",
       "...          ...       ...                   ...                ...   \n",
       "25475  EZYV25476      Asia            Bachelor's                  Y   \n",
       "25476  EZYV25477      Asia           High School                  Y   \n",
       "25477  EZYV25478      Asia              Master's                  Y   \n",
       "25478  EZYV25479      Asia              Master's                  Y   \n",
       "25479  EZYV25480      Asia            Bachelor's                  Y   \n",
       "\n",
       "      requires_job_training  no_of_employees  yr_of_estab  \\\n",
       "0                         N            14513         2007   \n",
       "1                         N             2412         2002   \n",
       "2                         Y            44444         2008   \n",
       "3                         N               98         1897   \n",
       "4                         N             1082         2005   \n",
       "...                     ...              ...          ...   \n",
       "25475                     Y             2601         2008   \n",
       "25476                     N             3274         2006   \n",
       "25477                     N             1121         1910   \n",
       "25478                     Y             1918         1887   \n",
       "25479                     N             3195         1960   \n",
       "\n",
       "      region_of_employment  prevailing_wage unit_of_wage full_time_position  \\\n",
       "0                     West         592.2029         Hour                  Y   \n",
       "1                Northeast       83425.6500         Year                  Y   \n",
       "2                     West      122996.8600         Year                  Y   \n",
       "3                     West       83434.0300         Year                  Y   \n",
       "4                    South      149907.3900         Year                  Y   \n",
       "...                    ...              ...          ...                ...   \n",
       "25475                South       77092.5700         Year                  Y   \n",
       "25476            Northeast      279174.7900         Year                  Y   \n",
       "25477                South      146298.8500         Year                  N   \n",
       "25478                 West       86154.7700         Year                  Y   \n",
       "25479              Midwest       70876.9100         Year                  Y   \n",
       "\n",
       "      case_status  \n",
       "0          Denied  \n",
       "1       Certified  \n",
       "2          Denied  \n",
       "3          Denied  \n",
       "4       Certified  \n",
       "...           ...  \n",
       "25475   Certified  \n",
       "25476   Certified  \n",
       "25477   Certified  \n",
       "25478   Certified  \n",
       "25479   Certified  \n",
       "\n",
       "[25480 rows x 12 columns]"
      ]
     },
     "execution_count": 2,
     "metadata": {},
     "output_type": "execute_result"
    }
   ],
   "source": [
    "file_path=\"C:\\\\Users\\\\omkar\\\\OneDrive\\\\Documents\\\\Data science\\\\Naresh IT\\\\Datafiles\\\\Visadataset.csv\"\n",
    "visa_df=pd.read_csv(file_path)\n",
    "visa_df"
   ]
  },
  {
   "cell_type": "code",
   "execution_count": 3,
   "id": "a07dfa66",
   "metadata": {},
   "outputs": [
    {
     "data": {
      "text/plain": [
       "Index(['case_id', 'continent', 'education_of_employee', 'has_job_experience',\n",
       "       'requires_job_training', 'no_of_employees', 'yr_of_estab',\n",
       "       'region_of_employment', 'prevailing_wage', 'unit_of_wage',\n",
       "       'full_time_position', 'case_status'],\n",
       "      dtype='object')"
      ]
     },
     "execution_count": 3,
     "metadata": {},
     "output_type": "execute_result"
    }
   ],
   "source": [
    "visa_df.columns"
   ]
  },
  {
   "cell_type": "code",
   "execution_count": 4,
   "id": "8c117ed8",
   "metadata": {},
   "outputs": [
    {
     "data": {
      "text/plain": [
       "0           592.2029\n",
       "1         83425.6500\n",
       "2        122996.8600\n",
       "3         83434.0300\n",
       "4        149907.3900\n",
       "            ...     \n",
       "25475     77092.5700\n",
       "25476    279174.7900\n",
       "25477    146298.8500\n",
       "25478     86154.7700\n",
       "25479     70876.9100\n",
       "Name: prevailing_wage, Length: 25480, dtype: float64"
      ]
     },
     "execution_count": 4,
     "metadata": {},
     "output_type": "execute_result"
    }
   ],
   "source": [
    "visa_df['prevailing_wage']  # as a series"
   ]
  },
  {
   "cell_type": "code",
   "execution_count": 5,
   "id": "89590ebf",
   "metadata": {},
   "outputs": [
    {
     "data": {
      "text/plain": [
       "array([   592.2029,  83425.65  , 122996.86  , ..., 146298.85  ,\n",
       "        86154.77  ,  70876.91  ])"
      ]
     },
     "execution_count": 5,
     "metadata": {},
     "output_type": "execute_result"
    }
   ],
   "source": [
    "visa_df['prevailing_wage'].values"
   ]
  },
  {
   "cell_type": "markdown",
   "id": "5eb8dde4",
   "metadata": {},
   "source": [
    "- count\n",
    "\n",
    "- min\n",
    "\n",
    "- max\n",
    "\n",
    "- mean\n",
    "\n",
    "- median"
   ]
  },
  {
   "cell_type": "code",
   "execution_count": 29,
   "id": "508e7eb0",
   "metadata": {},
   "outputs": [
    {
     "data": {
      "text/html": [
       "<div>\n",
       "<style scoped>\n",
       "    .dataframe tbody tr th:only-of-type {\n",
       "        vertical-align: middle;\n",
       "    }\n",
       "\n",
       "    .dataframe tbody tr th {\n",
       "        vertical-align: top;\n",
       "    }\n",
       "\n",
       "    .dataframe thead th {\n",
       "        text-align: right;\n",
       "    }\n",
       "</style>\n",
       "<table border=\"1\" class=\"dataframe\">\n",
       "  <thead>\n",
       "    <tr style=\"text-align: right;\">\n",
       "      <th></th>\n",
       "      <th>name</th>\n",
       "      <th>age</th>\n",
       "    </tr>\n",
       "  </thead>\n",
       "  <tbody>\n",
       "    <tr>\n",
       "      <th>A</th>\n",
       "      <td>Ram</td>\n",
       "      <td>25</td>\n",
       "    </tr>\n",
       "  </tbody>\n",
       "</table>\n",
       "</div>"
      ],
      "text/plain": [
       "  name  age\n",
       "A  Ram   25"
      ]
     },
     "execution_count": 29,
     "metadata": {},
     "output_type": "execute_result"
    }
   ],
   "source": [
    "dict1={'names':['Ram','Sita'],\n",
    "      'age':[25,20]}\n",
    "pd.DataFrame(dict1)\n",
    "\n",
    "dict2={'name':'Ram',\n",
    "      'age':25}\n",
    "\n",
    "pd.DataFrame(dict2,index=['A'])"
   ]
  },
  {
   "cell_type": "code",
   "execution_count": 21,
   "id": "1c73cef4",
   "metadata": {},
   "outputs": [
    {
     "data": {
      "text/html": [
       "<div>\n",
       "<style scoped>\n",
       "    .dataframe tbody tr th:only-of-type {\n",
       "        vertical-align: middle;\n",
       "    }\n",
       "\n",
       "    .dataframe tbody tr th {\n",
       "        vertical-align: top;\n",
       "    }\n",
       "\n",
       "    .dataframe thead th {\n",
       "        text-align: right;\n",
       "    }\n",
       "</style>\n",
       "<table border=\"1\" class=\"dataframe\">\n",
       "  <thead>\n",
       "    <tr style=\"text-align: right;\">\n",
       "      <th></th>\n",
       "      <th>count</th>\n",
       "      <th>min</th>\n",
       "      <th>max</th>\n",
       "      <th>mean</th>\n",
       "      <th>median</th>\n",
       "      <th>std</th>\n",
       "    </tr>\n",
       "  </thead>\n",
       "  <tbody>\n",
       "    <tr>\n",
       "      <th>prevailing_wage</th>\n",
       "      <td>25480</td>\n",
       "      <td>2.14</td>\n",
       "      <td>319210.27</td>\n",
       "      <td>74455.81</td>\n",
       "      <td>70308.21</td>\n",
       "      <td>52815.94</td>\n",
       "    </tr>\n",
       "  </tbody>\n",
       "</table>\n",
       "</div>"
      ],
      "text/plain": [
       "                 count   min        max      mean    median       std\n",
       "prevailing_wage  25480  2.14  319210.27  74455.81  70308.21  52815.94"
      ]
     },
     "execution_count": 21,
     "metadata": {},
     "output_type": "execute_result"
    }
   ],
   "source": [
    "dict1={}\n",
    "wage_count=round(visa_df['prevailing_wage'].count(),2)\n",
    "wage_min=round(visa_df['prevailing_wage'].min(),2)\n",
    "wage_max=round(visa_df['prevailing_wage'].max(),2)\n",
    "wage_mean=round(visa_df['prevailing_wage'].mean(),2)\n",
    "wage_median=round(visa_df['prevailing_wage'].median(),2)\n",
    "wage_std=round(visa_df['prevailing_wage'].std(),2)\n",
    "\n",
    "dict1['count']=wage_count\n",
    "dict1['min']=wage_min\n",
    "dict1['max']=wage_max\n",
    "dict1['mean']=wage_mean\n",
    "dict1['median']=wage_median\n",
    "dict1['std']=wage_std\n",
    "pd.DataFrame(dict1,index=['prevailing_wage'])"
   ]
  },
  {
   "cell_type": "code",
   "execution_count": 32,
   "id": "f2800680",
   "metadata": {},
   "outputs": [
    {
     "data": {
      "text/html": [
       "<div>\n",
       "<style scoped>\n",
       "    .dataframe tbody tr th:only-of-type {\n",
       "        vertical-align: middle;\n",
       "    }\n",
       "\n",
       "    .dataframe tbody tr th {\n",
       "        vertical-align: top;\n",
       "    }\n",
       "\n",
       "    .dataframe thead th {\n",
       "        text-align: right;\n",
       "    }\n",
       "</style>\n",
       "<table border=\"1\" class=\"dataframe\">\n",
       "  <thead>\n",
       "    <tr style=\"text-align: right;\">\n",
       "      <th></th>\n",
       "      <th>prevailing_wage</th>\n",
       "    </tr>\n",
       "  </thead>\n",
       "  <tbody>\n",
       "    <tr>\n",
       "      <th>0</th>\n",
       "      <td>25480.00</td>\n",
       "    </tr>\n",
       "    <tr>\n",
       "      <th>1</th>\n",
       "      <td>2.14</td>\n",
       "    </tr>\n",
       "    <tr>\n",
       "      <th>2</th>\n",
       "      <td>319210.27</td>\n",
       "    </tr>\n",
       "    <tr>\n",
       "      <th>3</th>\n",
       "      <td>74455.81</td>\n",
       "    </tr>\n",
       "    <tr>\n",
       "      <th>4</th>\n",
       "      <td>70308.21</td>\n",
       "    </tr>\n",
       "    <tr>\n",
       "      <th>5</th>\n",
       "      <td>52815.94</td>\n",
       "    </tr>\n",
       "  </tbody>\n",
       "</table>\n",
       "</div>"
      ],
      "text/plain": [
       "   prevailing_wage\n",
       "0         25480.00\n",
       "1             2.14\n",
       "2        319210.27\n",
       "3         74455.81\n",
       "4         70308.21\n",
       "5         52815.94"
      ]
     },
     "execution_count": 32,
     "metadata": {},
     "output_type": "execute_result"
    }
   ],
   "source": [
    "dict1={}\n",
    "wage_count=round(visa_df['prevailing_wage'].count(),2)\n",
    "wage_min=round(visa_df['prevailing_wage'].min(),2)\n",
    "wage_max=round(visa_df['prevailing_wage'].max(),2)\n",
    "wage_mean=round(visa_df['prevailing_wage'].mean(),2)\n",
    "wage_median=round(visa_df['prevailing_wage'].median(),2)\n",
    "wage_std=round(visa_df['prevailing_wage'].std(),2)\n",
    "list1=[wage_count,wage_min,wage_max,wage_mean,wage_median,wage_std]\n",
    "dict1['prevailing_wage']=list1\n",
    "dict1\n",
    "pd.DataFrame(dict1)"
   ]
  },
  {
   "cell_type": "markdown",
   "id": "342f057a",
   "metadata": {},
   "source": [
    "$Using$-$list$"
   ]
  },
  {
   "cell_type": "code",
   "execution_count": 30,
   "id": "7df08097",
   "metadata": {},
   "outputs": [
    {
     "data": {
      "text/html": [
       "<div>\n",
       "<style scoped>\n",
       "    .dataframe tbody tr th:only-of-type {\n",
       "        vertical-align: middle;\n",
       "    }\n",
       "\n",
       "    .dataframe tbody tr th {\n",
       "        vertical-align: top;\n",
       "    }\n",
       "\n",
       "    .dataframe thead th {\n",
       "        text-align: right;\n",
       "    }\n",
       "</style>\n",
       "<table border=\"1\" class=\"dataframe\">\n",
       "  <thead>\n",
       "    <tr style=\"text-align: right;\">\n",
       "      <th></th>\n",
       "      <th>prevailing_wage</th>\n",
       "    </tr>\n",
       "  </thead>\n",
       "  <tbody>\n",
       "    <tr>\n",
       "      <th>count</th>\n",
       "      <td>25480.00</td>\n",
       "    </tr>\n",
       "    <tr>\n",
       "      <th>min</th>\n",
       "      <td>2.14</td>\n",
       "    </tr>\n",
       "    <tr>\n",
       "      <th>max</th>\n",
       "      <td>319210.27</td>\n",
       "    </tr>\n",
       "    <tr>\n",
       "      <th>mean</th>\n",
       "      <td>74455.81</td>\n",
       "    </tr>\n",
       "    <tr>\n",
       "      <th>median</th>\n",
       "      <td>70308.21</td>\n",
       "    </tr>\n",
       "    <tr>\n",
       "      <th>std</th>\n",
       "      <td>52815.94</td>\n",
       "    </tr>\n",
       "  </tbody>\n",
       "</table>\n",
       "</div>"
      ],
      "text/plain": [
       "        prevailing_wage\n",
       "count          25480.00\n",
       "min                2.14\n",
       "max           319210.27\n",
       "mean           74455.81\n",
       "median         70308.21\n",
       "std            52815.94"
      ]
     },
     "execution_count": 30,
     "metadata": {},
     "output_type": "execute_result"
    }
   ],
   "source": [
    "wage_count=round(visa_df['prevailing_wage'].count(),2)\n",
    "wage_min=round(visa_df['prevailing_wage'].min(),2)\n",
    "wage_max=round(visa_df['prevailing_wage'].max(),2)\n",
    "wage_mean=round(visa_df['prevailing_wage'].mean(),2)\n",
    "wage_median=round(visa_df['prevailing_wage'].median(),2)\n",
    "wage_std=round(visa_df['prevailing_wage'].std(),2)\n",
    "\n",
    "list1=[wage_count,wage_min,wage_max,wage_mean,wage_median,wage_std]\n",
    "pd.DataFrame(list1,\n",
    "             columns=['prevailing_wage'],\n",
    "            index=['count','min','max','mean','median','std'])"
   ]
  },
  {
   "cell_type": "code",
   "execution_count": 46,
   "id": "5b58c4fa",
   "metadata": {},
   "outputs": [
    {
     "name": "stdout",
     "output_type": "stream",
     "text": [
      "['no_of_employees', 'yr_of_estab', 'prevailing_wage']\n"
     ]
    },
    {
     "data": {
      "text/plain": [
       "{'no_of_employees': [25480, -26, 602069, 5667.04, 2109.0, 22877.93],\n",
       " 'yr_of_estab': [25480, 1800, 2016, 1979.41, 1997.0, 42.37],\n",
       " 'prevailing_wage': [25480, 2.14, 319210.27, 74455.81, 70308.21, 52815.94]}"
      ]
     },
     "execution_count": 46,
     "metadata": {},
     "output_type": "execute_result"
    }
   ],
   "source": [
    "#step-1: numerical column list\n",
    "dtypes=dict(visa_df.dtypes)  \n",
    "num=[i for i in dtypes if dtypes[i]!='O']\n",
    "print(num)\n",
    "\n",
    "dict1={}\n",
    "for i in num:\n",
    "    count=round(visa_df[i].count(),2)\n",
    "    MIN=round(visa_df[i].min(),2)\n",
    "    MAX=round(visa_df[i].max(),2)\n",
    "    mean=round(visa_df[i].mean(),2)\n",
    "    median=round(visa_df[i].median(),2)\n",
    "    std=round(visa_df[i].std(),2)\n",
    "    \n",
    "    list1=[count,MIN,MAX,mean,median,std]\n",
    "    dict1[i]=list1\n",
    "    \n",
    "    df=pd.DataFrame(dict1,\n",
    "                    index=['count','min','max','mean','median','std'])\n",
    "\n",
    "    \n",
    "dict1"
   ]
  },
  {
   "cell_type": "code",
   "execution_count": 47,
   "id": "4d79e901",
   "metadata": {},
   "outputs": [
    {
     "data": {
      "text/html": [
       "<div>\n",
       "<style scoped>\n",
       "    .dataframe tbody tr th:only-of-type {\n",
       "        vertical-align: middle;\n",
       "    }\n",
       "\n",
       "    .dataframe tbody tr th {\n",
       "        vertical-align: top;\n",
       "    }\n",
       "\n",
       "    .dataframe thead th {\n",
       "        text-align: right;\n",
       "    }\n",
       "</style>\n",
       "<table border=\"1\" class=\"dataframe\">\n",
       "  <thead>\n",
       "    <tr style=\"text-align: right;\">\n",
       "      <th></th>\n",
       "      <th>no_of_employees</th>\n",
       "      <th>yr_of_estab</th>\n",
       "      <th>prevailing_wage</th>\n",
       "    </tr>\n",
       "  </thead>\n",
       "  <tbody>\n",
       "    <tr>\n",
       "      <th>count</th>\n",
       "      <td>25480.00</td>\n",
       "      <td>25480.00</td>\n",
       "      <td>25480.00</td>\n",
       "    </tr>\n",
       "    <tr>\n",
       "      <th>min</th>\n",
       "      <td>-26.00</td>\n",
       "      <td>1800.00</td>\n",
       "      <td>2.14</td>\n",
       "    </tr>\n",
       "    <tr>\n",
       "      <th>max</th>\n",
       "      <td>602069.00</td>\n",
       "      <td>2016.00</td>\n",
       "      <td>319210.27</td>\n",
       "    </tr>\n",
       "    <tr>\n",
       "      <th>mean</th>\n",
       "      <td>5667.04</td>\n",
       "      <td>1979.41</td>\n",
       "      <td>74455.81</td>\n",
       "    </tr>\n",
       "    <tr>\n",
       "      <th>median</th>\n",
       "      <td>2109.00</td>\n",
       "      <td>1997.00</td>\n",
       "      <td>70308.21</td>\n",
       "    </tr>\n",
       "    <tr>\n",
       "      <th>std</th>\n",
       "      <td>22877.93</td>\n",
       "      <td>42.37</td>\n",
       "      <td>52815.94</td>\n",
       "    </tr>\n",
       "  </tbody>\n",
       "</table>\n",
       "</div>"
      ],
      "text/plain": [
       "        no_of_employees  yr_of_estab  prevailing_wage\n",
       "count          25480.00     25480.00         25480.00\n",
       "min              -26.00      1800.00             2.14\n",
       "max           602069.00      2016.00        319210.27\n",
       "mean            5667.04      1979.41         74455.81\n",
       "median          2109.00      1997.00         70308.21\n",
       "std            22877.93        42.37         52815.94"
      ]
     },
     "execution_count": 47,
     "metadata": {},
     "output_type": "execute_result"
    }
   ],
   "source": [
    "df"
   ]
  },
  {
   "cell_type": "code",
   "execution_count": 48,
   "id": "0886be80",
   "metadata": {},
   "outputs": [
    {
     "data": {
      "text/html": [
       "<div>\n",
       "<style scoped>\n",
       "    .dataframe tbody tr th:only-of-type {\n",
       "        vertical-align: middle;\n",
       "    }\n",
       "\n",
       "    .dataframe tbody tr th {\n",
       "        vertical-align: top;\n",
       "    }\n",
       "\n",
       "    .dataframe thead th {\n",
       "        text-align: right;\n",
       "    }\n",
       "</style>\n",
       "<table border=\"1\" class=\"dataframe\">\n",
       "  <thead>\n",
       "    <tr style=\"text-align: right;\">\n",
       "      <th></th>\n",
       "      <th>no_of_employees</th>\n",
       "      <th>yr_of_estab</th>\n",
       "      <th>prevailing_wage</th>\n",
       "    </tr>\n",
       "  </thead>\n",
       "  <tbody>\n",
       "    <tr>\n",
       "      <th>count</th>\n",
       "      <td>25480.000000</td>\n",
       "      <td>25480.000000</td>\n",
       "      <td>25480.000000</td>\n",
       "    </tr>\n",
       "    <tr>\n",
       "      <th>mean</th>\n",
       "      <td>5667.043210</td>\n",
       "      <td>1979.409929</td>\n",
       "      <td>74455.814592</td>\n",
       "    </tr>\n",
       "    <tr>\n",
       "      <th>std</th>\n",
       "      <td>22877.928848</td>\n",
       "      <td>42.366929</td>\n",
       "      <td>52815.942327</td>\n",
       "    </tr>\n",
       "    <tr>\n",
       "      <th>min</th>\n",
       "      <td>-26.000000</td>\n",
       "      <td>1800.000000</td>\n",
       "      <td>2.136700</td>\n",
       "    </tr>\n",
       "    <tr>\n",
       "      <th>25%</th>\n",
       "      <td>1022.000000</td>\n",
       "      <td>1976.000000</td>\n",
       "      <td>34015.480000</td>\n",
       "    </tr>\n",
       "    <tr>\n",
       "      <th>50%</th>\n",
       "      <td>2109.000000</td>\n",
       "      <td>1997.000000</td>\n",
       "      <td>70308.210000</td>\n",
       "    </tr>\n",
       "    <tr>\n",
       "      <th>75%</th>\n",
       "      <td>3504.000000</td>\n",
       "      <td>2005.000000</td>\n",
       "      <td>107735.512500</td>\n",
       "    </tr>\n",
       "    <tr>\n",
       "      <th>max</th>\n",
       "      <td>602069.000000</td>\n",
       "      <td>2016.000000</td>\n",
       "      <td>319210.270000</td>\n",
       "    </tr>\n",
       "  </tbody>\n",
       "</table>\n",
       "</div>"
      ],
      "text/plain": [
       "       no_of_employees   yr_of_estab  prevailing_wage\n",
       "count     25480.000000  25480.000000     25480.000000\n",
       "mean       5667.043210   1979.409929     74455.814592\n",
       "std       22877.928848     42.366929     52815.942327\n",
       "min         -26.000000   1800.000000         2.136700\n",
       "25%        1022.000000   1976.000000     34015.480000\n",
       "50%        2109.000000   1997.000000     70308.210000\n",
       "75%        3504.000000   2005.000000    107735.512500\n",
       "max      602069.000000   2016.000000    319210.270000"
      ]
     },
     "execution_count": 48,
     "metadata": {},
     "output_type": "execute_result"
    }
   ],
   "source": [
    "visa_df.describe()"
   ]
  },
  {
   "cell_type": "code",
   "execution_count": null,
   "id": "390db5b6",
   "metadata": {},
   "outputs": [],
   "source": [
    "- we implemented describe function with our own python skill"
   ]
  },
  {
   "cell_type": "code",
   "execution_count": 49,
   "id": "f285a027",
   "metadata": {},
   "outputs": [
    {
     "data": {
      "text/plain": [
       "74455.81459209183"
      ]
     },
     "execution_count": 49,
     "metadata": {},
     "output_type": "execute_result"
    }
   ],
   "source": [
    "visa_df['prevailing_wage'].mean()  \n",
    "\n",
    "# Reading a specific column\n",
    "# we have a mean method"
   ]
  },
  {
   "cell_type": "code",
   "execution_count": null,
   "id": "d3b8d75c",
   "metadata": {},
   "outputs": [],
   "source": [
    "#np.mean(<specific column data>)"
   ]
  },
  {
   "cell_type": "code",
   "execution_count": 51,
   "id": "a4d07005",
   "metadata": {},
   "outputs": [
    {
     "data": {
      "text/plain": [
       "319210.27"
      ]
     },
     "execution_count": 51,
     "metadata": {},
     "output_type": "execute_result"
    }
   ],
   "source": [
    "np.mean(visa_df['prevailing_wage'])\n",
    "np.median(visa_df['prevailing_wage'])\n",
    "np.std(visa_df['prevailing_wage'])\n",
    "np.min(visa_df['prevailing_wage'])\n",
    "np.max(visa_df['prevailing_wage'])"
   ]
  },
  {
   "cell_type": "markdown",
   "id": "718841b0",
   "metadata": {},
   "source": [
    "$percentile$-$quantile$"
   ]
  },
  {
   "cell_type": "code",
   "execution_count": null,
   "id": "b5167819",
   "metadata": {},
   "outputs": [],
   "source": [
    "- percentile ranges from 1 to 100\n",
    "\n",
    "- quantile q1=25P  q2=50p  q3=75p\n",
    "\n",
    "- np.percentile(<direct number between 1 to 100>,data)\n",
    "\n",
    "- ex: np.percentile(75,data)\n",
    "    \n",
    "- np.quantile(<decimal number>,data)\n",
    "\n",
    "- ex: np.quantile(0.75,data)"
   ]
  },
  {
   "cell_type": "code",
   "execution_count": 54,
   "id": "5fb0f1a8",
   "metadata": {},
   "outputs": [
    {
     "name": "stdout",
     "output_type": "stream",
     "text": [
      "34015.48 70308.21 107735.51\n"
     ]
    }
   ],
   "source": [
    "q1=round(np.percentile(visa_df['prevailing_wage'],25),2)\n",
    "q2=round(np.percentile(visa_df['prevailing_wage'],50),2)\n",
    "q3=round(np.percentile(visa_df['prevailing_wage'],75),2)\n",
    "print(q1,q2,q3)"
   ]
  },
  {
   "cell_type": "code",
   "execution_count": 55,
   "id": "4ceb4838",
   "metadata": {},
   "outputs": [
    {
     "name": "stdout",
     "output_type": "stream",
     "text": [
      "34015.48 70308.21 107735.51\n"
     ]
    }
   ],
   "source": [
    "q1=round(np.quantile(visa_df['prevailing_wage'],0.25),2)\n",
    "q2=round(np.quantile(visa_df['prevailing_wage'],0.50),2)\n",
    "q3=round(np.quantile(visa_df['prevailing_wage'],0.75),2)\n",
    "print(q1,q2,q3)"
   ]
  },
  {
   "cell_type": "code",
   "execution_count": 58,
   "id": "23f16bae",
   "metadata": {},
   "outputs": [
    {
     "name": "stdout",
     "output_type": "stream",
     "text": [
      "['no_of_employees', 'yr_of_estab', 'prevailing_wage']\n"
     ]
    }
   ],
   "source": [
    "#step-1: numerical column list\n",
    "dtypes=dict(visa_df.dtypes)  \n",
    "num=[i for i in dtypes if dtypes[i]!='O']\n",
    "print(num)\n",
    "\n",
    "dict1={}\n",
    "for i in num:\n",
    "    count=round(visa_df[i].count(),2)\n",
    "    MIN=round(visa_df[i].min(),2)\n",
    "    MAX=round(visa_df[i].max(),2)\n",
    "    mean=round(visa_df[i].mean(),2)\n",
    "    median=round(visa_df[i].median(),2)\n",
    "    std=round(visa_df[i].std(),2)\n",
    "    ##################################\n",
    "    q1=round(np.percentile(visa_df[i],25),2)\n",
    "    q2=round(np.percentile(visa_df[i],50),2)\n",
    "    q3=round(np.percentile(visa_df[i],75),2)\n",
    "    \n",
    "    list1=[count,MIN,MAX,mean,median,std,q1,q2,q3]\n",
    "    dict1[i]=list1\n",
    "    \n",
    "    df=pd.DataFrame(dict1,\n",
    "                    index=['count','min','max','mean','median','std','25%','50%','75%'])\n",
    "\n",
    "    \n"
   ]
  },
  {
   "cell_type": "code",
   "execution_count": 59,
   "id": "b873cc10",
   "metadata": {},
   "outputs": [
    {
     "data": {
      "text/html": [
       "<div>\n",
       "<style scoped>\n",
       "    .dataframe tbody tr th:only-of-type {\n",
       "        vertical-align: middle;\n",
       "    }\n",
       "\n",
       "    .dataframe tbody tr th {\n",
       "        vertical-align: top;\n",
       "    }\n",
       "\n",
       "    .dataframe thead th {\n",
       "        text-align: right;\n",
       "    }\n",
       "</style>\n",
       "<table border=\"1\" class=\"dataframe\">\n",
       "  <thead>\n",
       "    <tr style=\"text-align: right;\">\n",
       "      <th></th>\n",
       "      <th>no_of_employees</th>\n",
       "      <th>yr_of_estab</th>\n",
       "      <th>prevailing_wage</th>\n",
       "    </tr>\n",
       "  </thead>\n",
       "  <tbody>\n",
       "    <tr>\n",
       "      <th>count</th>\n",
       "      <td>25480.00</td>\n",
       "      <td>25480.00</td>\n",
       "      <td>25480.00</td>\n",
       "    </tr>\n",
       "    <tr>\n",
       "      <th>min</th>\n",
       "      <td>-26.00</td>\n",
       "      <td>1800.00</td>\n",
       "      <td>2.14</td>\n",
       "    </tr>\n",
       "    <tr>\n",
       "      <th>max</th>\n",
       "      <td>602069.00</td>\n",
       "      <td>2016.00</td>\n",
       "      <td>319210.27</td>\n",
       "    </tr>\n",
       "    <tr>\n",
       "      <th>mean</th>\n",
       "      <td>5667.04</td>\n",
       "      <td>1979.41</td>\n",
       "      <td>74455.81</td>\n",
       "    </tr>\n",
       "    <tr>\n",
       "      <th>median</th>\n",
       "      <td>2109.00</td>\n",
       "      <td>1997.00</td>\n",
       "      <td>70308.21</td>\n",
       "    </tr>\n",
       "    <tr>\n",
       "      <th>std</th>\n",
       "      <td>22877.93</td>\n",
       "      <td>42.37</td>\n",
       "      <td>52815.94</td>\n",
       "    </tr>\n",
       "    <tr>\n",
       "      <th>25%</th>\n",
       "      <td>1022.00</td>\n",
       "      <td>1976.00</td>\n",
       "      <td>34015.48</td>\n",
       "    </tr>\n",
       "    <tr>\n",
       "      <th>50%</th>\n",
       "      <td>2109.00</td>\n",
       "      <td>1997.00</td>\n",
       "      <td>70308.21</td>\n",
       "    </tr>\n",
       "    <tr>\n",
       "      <th>75%</th>\n",
       "      <td>3504.00</td>\n",
       "      <td>2005.00</td>\n",
       "      <td>107735.51</td>\n",
       "    </tr>\n",
       "  </tbody>\n",
       "</table>\n",
       "</div>"
      ],
      "text/plain": [
       "        no_of_employees  yr_of_estab  prevailing_wage\n",
       "count          25480.00     25480.00         25480.00\n",
       "min              -26.00      1800.00             2.14\n",
       "max           602069.00      2016.00        319210.27\n",
       "mean            5667.04      1979.41         74455.81\n",
       "median          2109.00      1997.00         70308.21\n",
       "std            22877.93        42.37         52815.94\n",
       "25%             1022.00      1976.00         34015.48\n",
       "50%             2109.00      1997.00         70308.21\n",
       "75%             3504.00      2005.00        107735.51"
      ]
     },
     "execution_count": 59,
     "metadata": {},
     "output_type": "execute_result"
    }
   ],
   "source": [
    "df"
   ]
  },
  {
   "cell_type": "code",
   "execution_count": 60,
   "id": "4ffbf9ea",
   "metadata": {},
   "outputs": [
    {
     "data": {
      "text/plain": [
       "34015.48"
      ]
     },
     "execution_count": 60,
     "metadata": {},
     "output_type": "execute_result"
    }
   ],
   "source": [
    "q1=round(np.percentile(visa_df['prevailing_wage'],25),2)\n",
    "q1"
   ]
  },
  {
   "cell_type": "markdown",
   "id": "cbbcfe0d",
   "metadata": {},
   "source": [
    "**what is the meaning of this**"
   ]
  },
  {
   "cell_type": "code",
   "execution_count": null,
   "id": "414f0d32",
   "metadata": {},
   "outputs": [],
   "source": [
    "#25 percentage of observations from the total data\n",
    "#have a value below 34015"
   ]
  },
  {
   "cell_type": "code",
   "execution_count": null,
   "id": "cdb0b82e",
   "metadata": {},
   "outputs": [],
   "source": [
    "#total_obsrvations=25480\n",
    "#25percentagae(25480)\n",
    "#25*25480/100= 6370\n",
    "\n",
    "#6370 people have wages less than 34015"
   ]
  },
  {
   "cell_type": "code",
   "execution_count": 64,
   "id": "b4a1d99a",
   "metadata": {},
   "outputs": [
    {
     "data": {
      "text/plain": [
       "6370"
      ]
     },
     "execution_count": 64,
     "metadata": {},
     "output_type": "execute_result"
    }
   ],
   "source": [
    "len(visa_df[visa_df['prevailing_wage']<34015])\n",
    "\n",
    "# how many True= 6370"
   ]
  },
  {
   "cell_type": "markdown",
   "id": "c71bbe2e",
   "metadata": {},
   "source": [
    "$Empiricle$-$rule$"
   ]
  },
  {
   "cell_type": "markdown",
   "id": "1737b628",
   "metadata": {},
   "source": [
    "<img src=\"data:image/png;base64,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\" data-deferred=\"1\" class=\"rg_i Q4LuWd\" jsname=\"Q4LuWd\" width=\"318\" height=\"159\" alt=\"Empirical Rule (68-95-99.7) Explained | Built In\" data-iml=\"783.1999999284744\" data-atf=\"true\">"
   ]
  },
  {
   "cell_type": "markdown",
   "id": "1b4bc212",
   "metadata": {},
   "source": [
    "- Select an Image \n",
    "\n",
    "- Right click select insepect\n",
    "\n",
    "- click on inspect\n",
    "\n",
    "- Right side you will img src\n",
    "\n",
    "- Right click on img src and select Edit as HTML\n",
    "\n",
    "- dont move your curosr\n",
    "\n",
    "- CTRL+A\n",
    "\n",
    "- CTRL+C\n",
    "\n",
    "- CTRL+V\n",
    "\n",
    "- ESC+M\n",
    "\n",
    "- SHIFT+ENTER"
   ]
  },
  {
   "cell_type": "markdown",
   "id": "53474e7d",
   "metadata": {},
   "source": [
    "**when data follows a normal distribution**\n",
    "\n",
    "- u-1*sigma to u+1*sigma : 68%\n",
    "    \n",
    "- u-2*sigma to u+2*sigma : 95%\n",
    "    \n",
    "- u-3*sigma to u+3*sigma : 99.7%"
   ]
  },
  {
   "cell_type": "code",
   "execution_count": 66,
   "id": "86e86eac",
   "metadata": {},
   "outputs": [
    {
     "data": {
      "text/plain": [
       "(74455.81, 52815.94)"
      ]
     },
     "execution_count": 66,
     "metadata": {},
     "output_type": "execute_result"
    }
   ],
   "source": [
    "wage_mean,wage_std"
   ]
  },
  {
   "cell_type": "code",
   "execution_count": 68,
   "id": "0c79f3d0",
   "metadata": {},
   "outputs": [
    {
     "name": "stdout",
     "output_type": "stream",
     "text": [
      "21639.87 127271.75 -31176.07 180087.69 -83992.01 232903.63\n"
     ]
    }
   ],
   "source": [
    "###################### 68% ####################\n",
    "val_minus_1=round(wage_mean-1*wage_std,2) \n",
    "val_plus_1=round(wage_mean+1*wage_std,2) \n",
    "\n",
    "##################### 95%#########################\n",
    "val_minus_2=round(wage_mean-2*wage_std,2) \n",
    "val_plus_2=round(wage_mean+2*wage_std,2) \n",
    "\n",
    "##################### 99.7%#########################\n",
    "val_minus_3=round(wage_mean-3*wage_std,2) \n",
    "val_plus_3=round(wage_mean+3*wage_std,2) \n",
    "\n",
    "print(val_minus_1,val_plus_1,val_minus_2,val_plus_2,val_minus_3,val_plus_3)"
   ]
  },
  {
   "cell_type": "markdown",
   "id": "e320baa7",
   "metadata": {},
   "source": [
    "- 68 percentage of observations have values between [21639.87,127271.75]\n",
    "\n",
    "- 95 percentage of observations have values between [-31176.07,180087.69]\n",
    "\n",
    "- 99.7 percentage of observations have values between [-83992.01,232903.63]"
   ]
  },
  {
   "cell_type": "code",
   "execution_count": 70,
   "id": "66403973",
   "metadata": {},
   "outputs": [
    {
     "data": {
      "text/plain": [
       "17326.4"
      ]
     },
     "execution_count": 70,
     "metadata": {},
     "output_type": "execute_result"
    }
   ],
   "source": [
    "68*25480/100"
   ]
  },
  {
   "cell_type": "code",
   "execution_count": 76,
   "id": "6f57c3ed",
   "metadata": {},
   "outputs": [
    {
     "data": {
      "text/plain": [
       "0.673901098901099"
      ]
     },
     "execution_count": 76,
     "metadata": {},
     "output_type": "execute_result"
    }
   ],
   "source": [
    "con1=visa_df['prevailing_wage']>val_minus_1\n",
    "con2=visa_df['prevailing_wage']<val_plus_1\n",
    "len(visa_df[con1&con2])\n",
    "len(visa_df[con1&con2])/len(visa_df)"
   ]
  },
  {
   "cell_type": "code",
   "execution_count": 77,
   "id": "62580c86",
   "metadata": {},
   "outputs": [
    {
     "data": {
      "text/plain": [
       "0.9647566718995291"
      ]
     },
     "execution_count": 77,
     "metadata": {},
     "output_type": "execute_result"
    }
   ],
   "source": [
    "con1=visa_df['prevailing_wage']>val_minus_2\n",
    "con2=visa_df['prevailing_wage']<val_plus_2\n",
    "len(visa_df[con1&con2])\n",
    "len(visa_df[con1&con2])/len(visa_df)"
   ]
  },
  {
   "cell_type": "code",
   "execution_count": 78,
   "id": "d7eb49aa",
   "metadata": {},
   "outputs": [
    {
     "data": {
      "text/plain": [
       "0.9884615384615385"
      ]
     },
     "execution_count": 78,
     "metadata": {},
     "output_type": "execute_result"
    }
   ],
   "source": [
    "con1=visa_df['prevailing_wage']>val_minus_3\n",
    "con2=visa_df['prevailing_wage']<val_plus_3\n",
    "len(visa_df[con1&con2])\n",
    "len(visa_df[con1&con2])/len(visa_df)"
   ]
  },
  {
   "cell_type": "code",
   "execution_count": null,
   "id": "aeec5614",
   "metadata": {},
   "outputs": [],
   "source": [
    "68-95-99.7\n",
    "67-96-98"
   ]
  },
  {
   "cell_type": "code",
   "execution_count": null,
   "id": "d5c7be11",
   "metadata": {},
   "outputs": [],
   "source": [
    "# Import the packages\n",
    "# Read the data"
   ]
  },
  {
   "cell_type": "code",
   "execution_count": 1,
   "id": "0ef7c8ee",
   "metadata": {},
   "outputs": [],
   "source": [
    "import pandas as pd\n",
    "import numpy as np\n",
    "import seaborn as sns\n",
    "import matplotlib.pyplot as plt"
   ]
  },
  {
   "cell_type": "code",
   "execution_count": 2,
   "id": "e2861464",
   "metadata": {},
   "outputs": [
    {
     "data": {
      "text/html": [
       "<div>\n",
       "<style scoped>\n",
       "    .dataframe tbody tr th:only-of-type {\n",
       "        vertical-align: middle;\n",
       "    }\n",
       "\n",
       "    .dataframe tbody tr th {\n",
       "        vertical-align: top;\n",
       "    }\n",
       "\n",
       "    .dataframe thead th {\n",
       "        text-align: right;\n",
       "    }\n",
       "</style>\n",
       "<table border=\"1\" class=\"dataframe\">\n",
       "  <thead>\n",
       "    <tr style=\"text-align: right;\">\n",
       "      <th></th>\n",
       "      <th>case_id</th>\n",
       "      <th>continent</th>\n",
       "      <th>education_of_employee</th>\n",
       "      <th>has_job_experience</th>\n",
       "      <th>requires_job_training</th>\n",
       "      <th>no_of_employees</th>\n",
       "      <th>yr_of_estab</th>\n",
       "      <th>region_of_employment</th>\n",
       "      <th>prevailing_wage</th>\n",
       "      <th>unit_of_wage</th>\n",
       "      <th>full_time_position</th>\n",
       "      <th>case_status</th>\n",
       "    </tr>\n",
       "  </thead>\n",
       "  <tbody>\n",
       "    <tr>\n",
       "      <th>0</th>\n",
       "      <td>EZYV01</td>\n",
       "      <td>Asia</td>\n",
       "      <td>High School</td>\n",
       "      <td>N</td>\n",
       "      <td>N</td>\n",
       "      <td>14513</td>\n",
       "      <td>2007</td>\n",
       "      <td>West</td>\n",
       "      <td>592.2029</td>\n",
       "      <td>Hour</td>\n",
       "      <td>Y</td>\n",
       "      <td>Denied</td>\n",
       "    </tr>\n",
       "    <tr>\n",
       "      <th>1</th>\n",
       "      <td>EZYV02</td>\n",
       "      <td>Asia</td>\n",
       "      <td>Master's</td>\n",
       "      <td>Y</td>\n",
       "      <td>N</td>\n",
       "      <td>2412</td>\n",
       "      <td>2002</td>\n",
       "      <td>Northeast</td>\n",
       "      <td>83425.6500</td>\n",
       "      <td>Year</td>\n",
       "      <td>Y</td>\n",
       "      <td>Certified</td>\n",
       "    </tr>\n",
       "    <tr>\n",
       "      <th>2</th>\n",
       "      <td>EZYV03</td>\n",
       "      <td>Asia</td>\n",
       "      <td>Bachelor's</td>\n",
       "      <td>N</td>\n",
       "      <td>Y</td>\n",
       "      <td>44444</td>\n",
       "      <td>2008</td>\n",
       "      <td>West</td>\n",
       "      <td>122996.8600</td>\n",
       "      <td>Year</td>\n",
       "      <td>Y</td>\n",
       "      <td>Denied</td>\n",
       "    </tr>\n",
       "    <tr>\n",
       "      <th>3</th>\n",
       "      <td>EZYV04</td>\n",
       "      <td>Asia</td>\n",
       "      <td>Bachelor's</td>\n",
       "      <td>N</td>\n",
       "      <td>N</td>\n",
       "      <td>98</td>\n",
       "      <td>1897</td>\n",
       "      <td>West</td>\n",
       "      <td>83434.0300</td>\n",
       "      <td>Year</td>\n",
       "      <td>Y</td>\n",
       "      <td>Denied</td>\n",
       "    </tr>\n",
       "    <tr>\n",
       "      <th>4</th>\n",
       "      <td>EZYV05</td>\n",
       "      <td>Africa</td>\n",
       "      <td>Master's</td>\n",
       "      <td>Y</td>\n",
       "      <td>N</td>\n",
       "      <td>1082</td>\n",
       "      <td>2005</td>\n",
       "      <td>South</td>\n",
       "      <td>149907.3900</td>\n",
       "      <td>Year</td>\n",
       "      <td>Y</td>\n",
       "      <td>Certified</td>\n",
       "    </tr>\n",
       "    <tr>\n",
       "      <th>...</th>\n",
       "      <td>...</td>\n",
       "      <td>...</td>\n",
       "      <td>...</td>\n",
       "      <td>...</td>\n",
       "      <td>...</td>\n",
       "      <td>...</td>\n",
       "      <td>...</td>\n",
       "      <td>...</td>\n",
       "      <td>...</td>\n",
       "      <td>...</td>\n",
       "      <td>...</td>\n",
       "      <td>...</td>\n",
       "    </tr>\n",
       "    <tr>\n",
       "      <th>25475</th>\n",
       "      <td>EZYV25476</td>\n",
       "      <td>Asia</td>\n",
       "      <td>Bachelor's</td>\n",
       "      <td>Y</td>\n",
       "      <td>Y</td>\n",
       "      <td>2601</td>\n",
       "      <td>2008</td>\n",
       "      <td>South</td>\n",
       "      <td>77092.5700</td>\n",
       "      <td>Year</td>\n",
       "      <td>Y</td>\n",
       "      <td>Certified</td>\n",
       "    </tr>\n",
       "    <tr>\n",
       "      <th>25476</th>\n",
       "      <td>EZYV25477</td>\n",
       "      <td>Asia</td>\n",
       "      <td>High School</td>\n",
       "      <td>Y</td>\n",
       "      <td>N</td>\n",
       "      <td>3274</td>\n",
       "      <td>2006</td>\n",
       "      <td>Northeast</td>\n",
       "      <td>279174.7900</td>\n",
       "      <td>Year</td>\n",
       "      <td>Y</td>\n",
       "      <td>Certified</td>\n",
       "    </tr>\n",
       "    <tr>\n",
       "      <th>25477</th>\n",
       "      <td>EZYV25478</td>\n",
       "      <td>Asia</td>\n",
       "      <td>Master's</td>\n",
       "      <td>Y</td>\n",
       "      <td>N</td>\n",
       "      <td>1121</td>\n",
       "      <td>1910</td>\n",
       "      <td>South</td>\n",
       "      <td>146298.8500</td>\n",
       "      <td>Year</td>\n",
       "      <td>N</td>\n",
       "      <td>Certified</td>\n",
       "    </tr>\n",
       "    <tr>\n",
       "      <th>25478</th>\n",
       "      <td>EZYV25479</td>\n",
       "      <td>Asia</td>\n",
       "      <td>Master's</td>\n",
       "      <td>Y</td>\n",
       "      <td>Y</td>\n",
       "      <td>1918</td>\n",
       "      <td>1887</td>\n",
       "      <td>West</td>\n",
       "      <td>86154.7700</td>\n",
       "      <td>Year</td>\n",
       "      <td>Y</td>\n",
       "      <td>Certified</td>\n",
       "    </tr>\n",
       "    <tr>\n",
       "      <th>25479</th>\n",
       "      <td>EZYV25480</td>\n",
       "      <td>Asia</td>\n",
       "      <td>Bachelor's</td>\n",
       "      <td>Y</td>\n",
       "      <td>N</td>\n",
       "      <td>3195</td>\n",
       "      <td>1960</td>\n",
       "      <td>Midwest</td>\n",
       "      <td>70876.9100</td>\n",
       "      <td>Year</td>\n",
       "      <td>Y</td>\n",
       "      <td>Certified</td>\n",
       "    </tr>\n",
       "  </tbody>\n",
       "</table>\n",
       "<p>25480 rows × 12 columns</p>\n",
       "</div>"
      ],
      "text/plain": [
       "         case_id continent education_of_employee has_job_experience  \\\n",
       "0         EZYV01      Asia           High School                  N   \n",
       "1         EZYV02      Asia              Master's                  Y   \n",
       "2         EZYV03      Asia            Bachelor's                  N   \n",
       "3         EZYV04      Asia            Bachelor's                  N   \n",
       "4         EZYV05    Africa              Master's                  Y   \n",
       "...          ...       ...                   ...                ...   \n",
       "25475  EZYV25476      Asia            Bachelor's                  Y   \n",
       "25476  EZYV25477      Asia           High School                  Y   \n",
       "25477  EZYV25478      Asia              Master's                  Y   \n",
       "25478  EZYV25479      Asia              Master's                  Y   \n",
       "25479  EZYV25480      Asia            Bachelor's                  Y   \n",
       "\n",
       "      requires_job_training  no_of_employees  yr_of_estab  \\\n",
       "0                         N            14513         2007   \n",
       "1                         N             2412         2002   \n",
       "2                         Y            44444         2008   \n",
       "3                         N               98         1897   \n",
       "4                         N             1082         2005   \n",
       "...                     ...              ...          ...   \n",
       "25475                     Y             2601         2008   \n",
       "25476                     N             3274         2006   \n",
       "25477                     N             1121         1910   \n",
       "25478                     Y             1918         1887   \n",
       "25479                     N             3195         1960   \n",
       "\n",
       "      region_of_employment  prevailing_wage unit_of_wage full_time_position  \\\n",
       "0                     West         592.2029         Hour                  Y   \n",
       "1                Northeast       83425.6500         Year                  Y   \n",
       "2                     West      122996.8600         Year                  Y   \n",
       "3                     West       83434.0300         Year                  Y   \n",
       "4                    South      149907.3900         Year                  Y   \n",
       "...                    ...              ...          ...                ...   \n",
       "25475                South       77092.5700         Year                  Y   \n",
       "25476            Northeast      279174.7900         Year                  Y   \n",
       "25477                South      146298.8500         Year                  N   \n",
       "25478                 West       86154.7700         Year                  Y   \n",
       "25479              Midwest       70876.9100         Year                  Y   \n",
       "\n",
       "      case_status  \n",
       "0          Denied  \n",
       "1       Certified  \n",
       "2          Denied  \n",
       "3          Denied  \n",
       "4       Certified  \n",
       "...           ...  \n",
       "25475   Certified  \n",
       "25476   Certified  \n",
       "25477   Certified  \n",
       "25478   Certified  \n",
       "25479   Certified  \n",
       "\n",
       "[25480 rows x 12 columns]"
      ]
     },
     "execution_count": 2,
     "metadata": {},
     "output_type": "execute_result"
    }
   ],
   "source": [
    "file_path=\"C:\\\\Users\\\\omkar\\\\OneDrive\\\\Documents\\\\Data science\\\\Naresh IT\\\\Datafiles\\\\Visadataset.csv\"\n",
    "visa_df=pd.read_csv(file_path)\n",
    "visa_df"
   ]
  },
  {
   "cell_type": "markdown",
   "id": "a8e124e9",
   "metadata": {},
   "source": [
    "- we read p_wage column\n",
    "\n",
    "- we perform statistical analysis\n",
    "\n",
    "- we perform empiricle rule analysis\n",
    "\n",
    "- empiricle rule: 68-95-99.7\n",
    "    \n",
    "- p_wage  67-96-98\n",
    "\n",
    "- wage_mean=74455\n",
    "\n",
    "- wage_median=70308\n",
    "\n",
    "- median<mean\n",
    "\n",
    "- data might be right skewed\n",
    "\n",
    "- but percentage of data almost valid with empiricle\n",
    "\n",
    "- it is looks like normal distribution and slightly right skewed\n",
    "\n",
    "- In order to see that darw histogram"
   ]
  },
  {
   "cell_type": "code",
   "execution_count": 7,
   "id": "f3105143",
   "metadata": {},
   "outputs": [
    {
     "data": {
      "image/png": "[encoded data removed]",
      "text/plain": [
       "<Figure size 640x480 with 1 Axes>"
      ]
     },
     "metadata": {},
     "output_type": "display_data"
    }
   ],
   "source": [
    "plt.hist(visa_df['prevailing_wage'],\n",
    "         bins=40)\n",
    "plt.show()\n",
    "\n",
    "# by defualt it will give as 10 intervals\n",
    "# if you want increase the intervals \n",
    "# argument name bins"
   ]
  },
  {
   "cell_type": "code",
   "execution_count": 11,
   "id": "92d18f1a",
   "metadata": {},
   "outputs": [
    {
     "data": {
      "image/png": "[encoded data removed]",
      "text/plain": [
       "<Figure size 640x480 with 1 Axes>"
      ]
     },
     "metadata": {},
     "output_type": "display_data"
    }
   ],
   "source": [
    "frequency,interval,n=plt.hist(visa_df['prevailing_wage'],\n",
    "         bins=40)\n",
    "\n",
    "# frequency means number of observations are fall between an interval\n",
    "# interval\n",
    "# n= number of intervals"
   ]
  },
  {
   "cell_type": "code",
   "execution_count": 9,
   "id": "33feeb8e",
   "metadata": {},
   "outputs": [
    {
     "data": {
      "text/plain": [
       "(2.1367, 7982.34003)"
      ]
     },
     "execution_count": 9,
     "metadata": {},
     "output_type": "execute_result"
    }
   ],
   "source": [
    "# 2992 observations are between 2.13670000e+00, 7.98234003e+03\n",
    "# 871 observations are between 7.98234003e+03, 1.59625434e+04"
   ]
  },
  {
   "cell_type": "code",
   "execution_count": 14,
   "id": "26c5b68e",
   "metadata": {},
   "outputs": [
    {
     "data": {
      "text/plain": [
       "(40, 41, 40)"
      ]
     },
     "execution_count": 14,
     "metadata": {},
     "output_type": "execute_result"
    }
   ],
   "source": [
    "len(frequency),len(interval),len(n)"
   ]
  },
  {
   "cell_type": "code",
   "execution_count": 17,
   "id": "9db3ee20",
   "metadata": {},
   "outputs": [
    {
     "data": {
      "text/plain": [
       "2991"
      ]
     },
     "execution_count": 17,
     "metadata": {},
     "output_type": "execute_result"
    }
   ],
   "source": [
    "# 2992 observations are between 2.13670000e+00, 7.98234003e+03\n",
    "# verify\n",
    "\n",
    "# step-1: write con1 = <col>>2.13\n",
    "# step-2: write con2= <col><7982.3\n",
    "# step-3: con1&con2\n",
    "# step-4: col[con1&con2]\n",
    "# step-5: len(col[con1&con2])\n",
    "\n",
    "con1=visa_df['prevailing_wage']>2.13670000e+00\n",
    "con2=visa_df['prevailing_wage']<7.98234003e+03\n",
    "len(visa_df[con1&con2])"
   ]
  },
  {
   "cell_type": "code",
   "execution_count": 20,
   "id": "e0b9c771",
   "metadata": {},
   "outputs": [
    {
     "data": {
      "text/plain": [
       "2992"
      ]
     },
     "execution_count": 20,
     "metadata": {},
     "output_type": "execute_result"
    }
   ],
   "source": [
    "len(visa_df[visa_df['prevailing_wage'].between(2.13670000e+00,7.98234003e+03)])"
   ]
  },
  {
   "cell_type": "code",
   "execution_count": null,
   "id": "2381c2b3",
   "metadata": {},
   "outputs": [],
   "source": []
  },
  {
   "cell_type": "code",
   "execution_count": null,
   "id": "45ad1da6",
   "metadata": {},
   "outputs": [],
   "source": []
  },
  {
   "cell_type": "code",
   "execution_count": null,
   "id": "3b55315c",
   "metadata": {},
   "outputs": [],
   "source": []
  },
  {
   "cell_type": "code",
   "execution_count": null,
   "id": "fd90d867",
   "metadata": {},
   "outputs": [],
   "source": []
  },
  {
   "cell_type": "code",
   "execution_count": null,
   "id": "c1fd6814",
   "metadata": {},
   "outputs": [],
   "source": []
  },
  {
   "cell_type": "code",
   "execution_count": null,
   "id": "07495ccc",
   "metadata": {},
   "outputs": [],
   "source": []
  }
 ],
 "metadata": {
  "kernelspec": {
   "display_name": "Python 3 (ipykernel)",
   "language": "python",
   "name": "python3"
  },
  "language_info": {
   "codemirror_mode": {
    "name": "ipython",
    "version": 3
   },
   "file_extension": ".py",
   "mimetype": "text/x-python",
   "name": "python",
   "nbconvert_exporter": "python",
   "pygments_lexer": "ipython3",
   "version": "3.11.5"
  }
 },
 "nbformat": 4,
 "nbformat_minor": 5
}
